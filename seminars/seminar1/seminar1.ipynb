{
 "cells": [
  {
   "cell_type": "markdown",
   "id": "virgin-offer",
   "metadata": {
    "slideshow": {
     "slide_type": "slide"
    }
   },
   "source": [
    "## PLAN"
   ]
  },
  {
   "cell_type": "markdown",
   "id": "aquatic-version",
   "metadata": {
    "slideshow": {
     "slide_type": "slide"
    }
   },
   "source": [
    "## Maximum Likelihood Estimation (MLE)"
   ]
  },
  {
   "cell_type": "markdown",
   "id": "entitled-entrance",
   "metadata": {
    "slideshow": {
     "slide_type": "fragment"
    }
   },
   "source": [
    "What do we want?"
   ]
  },
  {
   "cell_type": "markdown",
   "id": "affecting-mineral",
   "metadata": {
    "slideshow": {
     "slide_type": "fragment"
    }
   },
   "source": [
    "We have samles $X \\sim \\pi(x)$. We assume what $\\pi(x) \\approx p(x|\\theta)$. So, let's get $\\theta$ estimation using $X$"
   ]
  },
  {
   "cell_type": "markdown",
   "id": "false-appliance",
   "metadata": {
    "slideshow": {
     "slide_type": "fragment"
    }
   },
   "source": [
    "How?\n",
    "\n",
    "$\\theta^* = argmax_{\\theta} p(X | \\theta) = argmax_{\\theta} \\prod_{i=1}^n p(x_i | \\theta) = argmax_{\\theta} \\sum_{i=1}^n \\log p(x_i | \\theta)$"
   ]
  },
  {
   "cell_type": "markdown",
   "id": "valuable-handbook",
   "metadata": {
    "slideshow": {
     "slide_type": "slide"
    }
   },
   "source": [
    "## MLE examlpes"
   ]
  },
  {
   "cell_type": "markdown",
   "id": "awful-threshold",
   "metadata": {
    "slideshow": {
     "slide_type": "fragment"
    }
   },
   "source": [
    "Example 1. \n",
    "\n",
    "$X_1, ... X_n \\sim U[0,\\theta]$. \n",
    "\n",
    "$\\hat{\\theta}_{MLE} = ?$"
   ]
  },
  {
   "cell_type": "markdown",
   "id": "closing-combat",
   "metadata": {
    "slideshow": {
     "slide_type": "fragment"
    }
   },
   "source": [
    "For a single $x \\sim U[0,\\theta]$:\n",
    "\n",
    "$f(x) = \\dfrac{1}{\\theta}, x \\in [0,\\theta]$\n",
    "\n",
    "$f(x) = 0, x \\notin [0,\\theta]$"
   ]
  },
  {
   "cell_type": "markdown",
   "id": "verbal-organ",
   "metadata": {
    "slideshow": {
     "slide_type": "slide"
    }
   },
   "source": [
    "We have $X_1, ... X_n \\sim U[0,\\theta]$:\n",
    "\n",
    "$f(X | \\theta) = \\dfrac{1}{\\theta^{n}}, X \\in [0,\\theta]^{n}$, and $0, X \\notin [0,\\theta]^{n}$"
   ]
  },
  {
   "cell_type": "markdown",
   "id": "delayed-vision",
   "metadata": {
    "slideshow": {
     "slide_type": "fragment"
    }
   },
   "source": [
    "It also can be written as:\n",
    "\n",
    "$f(X | \\theta) = \\dfrac{1}{\\theta^{n}}, max(X_1, ... X_n) \\leq \\theta$, and $0, max(X_1, ... X_n) > \\theta$"
   ]
  },
  {
   "cell_type": "markdown",
   "id": "owned-shock",
   "metadata": {
    "slideshow": {
     "slide_type": "fragment"
    }
   },
   "source": [
    "So, we can find:\n",
    "\n",
    "$\\hat{\\theta}_{MLE} = max(X_1, ... X_n)$"
   ]
  },
  {
   "cell_type": "markdown",
   "id": "defined-quick",
   "metadata": {
    "slideshow": {
     "slide_type": "slide"
    }
   },
   "source": [
    "$\\hat{\\theta}_{MLE} = max(X_1, ... X_n)$ is also random variable\n",
    "\n",
    "How does Cumulative distribution function $F(x) = P(x < X)$ looks like?"
   ]
  },
  {
   "cell_type": "markdown",
   "id": "objective-victory",
   "metadata": {
    "slideshow": {
     "slide_type": "fragment"
    }
   },
   "source": [
    "\n",
    "$P_{X \\sim U[0,\\theta]}(max(X_1, ... X_n) < x) = \\dfrac{x^n}{\\theta^n}$, $x \\in [0,\\theta]$"
   ]
  },
  {
   "cell_type": "markdown",
   "id": "frozen-picnic",
   "metadata": {
    "slideshow": {
     "slide_type": "slide"
    }
   },
   "source": [
    "$\\hat{\\theta}$ is **unbiased** estimation of $\\theta$: $\\mathbb{E}\\hat{\\theta} = \\theta$.\n",
    "\n",
    "Are MLEs **unbiased**?"
   ]
  },
  {
   "cell_type": "markdown",
   "id": "funded-officer",
   "metadata": {
    "slideshow": {
     "slide_type": "slide"
    }
   },
   "source": [
    "No. Let's find this $\\mathbb{E}\\hat{\\theta}_{MLE} = ?$"
   ]
  },
  {
   "cell_type": "markdown",
   "id": "worst-hammer",
   "metadata": {
    "slideshow": {
     "slide_type": "fragment"
    }
   },
   "source": [
    "We know that:\n",
    "\n",
    "$\\mathbb{E}x = \\int_{-\\infty}^{+\\infty} x f(x) dx = \\int_{-\\infty}^{+\\infty} x dF(x)$\n",
    "\n",
    "\n",
    "$P_{X \\sim U[0,\\theta]}(max(X_1, ... X_n) < x) = \\dfrac{x^n}{\\theta^n}$, $x \\in [0,\\theta]$"
   ]
  },
  {
   "cell_type": "markdown",
   "id": "physical-establishment",
   "metadata": {
    "slideshow": {
     "slide_type": "fragment"
    }
   },
   "source": [
    "$\\mathbb{E}_{X \\sim U[0,\\theta]}\\hat{\\theta}_{MLE} =\n",
    "\\int_{0}^{\\theta} x d \\dfrac{x^n}{\\theta^n} = ...\n",
    "%\\int_{0}^{\\theta} \\dfrac{xnx^{n-1}}{\\theta^n} d x =\n",
    "%\\int_{0}^{\\theta} \\dfrac{nx^{n}}{\\theta^n} d x =\n",
    "%\\dfrac{n\\theta^{n+1}}{(n+1)\\theta^n}$"
   ]
  },
  {
   "cell_type": "markdown",
   "id": "threaded-charter",
   "metadata": {
    "slideshow": {
     "slide_type": "fragment"
    }
   },
   "source": [
    "$\\Rightarrow \\mathbb{E}_{X \\sim U[0,\\theta]}\\hat{\\theta}_{MLE} = \\dfrac{n}{n+1}\\theta \\Rightarrow$ MLE is not **unbiased**"
   ]
  },
  {
   "cell_type": "markdown",
   "id": "hollow-potter",
   "metadata": {
    "slideshow": {
     "slide_type": "slide"
    }
   },
   "source": [
    "## EXAMPLE 2"
   ]
  },
  {
   "cell_type": "markdown",
   "id": "civil-stack",
   "metadata": {
    "slideshow": {
     "slide_type": "slide"
    }
   },
   "source": [
    "### свойства MLE "
   ]
  }
 ],
 "metadata": {
  "celltoolbar": "Slideshow",
  "kernelspec": {
   "display_name": "Python 3",
   "language": "python",
   "name": "python3"
  },
  "language_info": {
   "codemirror_mode": {
    "name": "ipython",
    "version": 3
   },
   "file_extension": ".py",
   "mimetype": "text/x-python",
   "name": "python",
   "nbconvert_exporter": "python",
   "pygments_lexer": "ipython3",
   "version": "3.8.5"
  }
 },
 "nbformat": 4,
 "nbformat_minor": 5
}
