{
 "cells": [
  {
   "cell_type": "code",
   "execution_count": 1,
   "id": "union-alert",
   "metadata": {
    "slideshow": {
     "slide_type": "skip"
    }
   },
   "outputs": [],
   "source": [
    "import numpy as np\n",
    "import matplotlib.pyplot as plt\n",
    "from PIL import Image\n",
    "import io\n",
    "import itertools\n",
    "\n",
    "\n",
    "import torch\n",
    "import torch.nn as nn\n",
    "import torch.nn.functional as F"
   ]
  },
  {
   "cell_type": "markdown",
   "id": "amber-humidity",
   "metadata": {
    "slideshow": {
     "slide_type": "slide"
    }
   },
   "source": [
    "# <center>Deep Generative Models</center>\n",
    "## <center>Seminar 1</center>\n",
    "\n",
    "<center><img src=\"ozonmasterslogo.png\" width=600 height=600 /></center>\n",
    "<center>10.02.2021</center>\n"
   ]
  },
  {
   "cell_type": "markdown",
   "id": "postal-tunnel",
   "metadata": {
    "slideshow": {
     "slide_type": "slide"
    }
   },
   "source": [
    "### Kondratenko Vladimir\n",
    "\n",
    "\n",
    "tg: @username27\n",
    "\n",
    "e-mail: vladimir.kondratenko@phystech.edu"
   ]
  },
  {
   "cell_type": "markdown",
   "id": "virgin-offer",
   "metadata": {
    "slideshow": {
     "slide_type": "slide"
    }
   },
   "source": [
    "## Plan\n",
    "\n",
    "- Maximum Likelihood Estimation\n",
    "- Example of a simple 1D/2D distribution\n",
    "- MADE\n",
    "- Masked Linear Layer"
   ]
  },
  {
   "cell_type": "markdown",
   "id": "aquatic-version",
   "metadata": {
    "slideshow": {
     "slide_type": "slide"
    }
   },
   "source": [
    "## Maximum Likelihood Estimation (MLE)"
   ]
  },
  {
   "cell_type": "markdown",
   "id": "entitled-entrance",
   "metadata": {
    "slideshow": {
     "slide_type": "fragment"
    }
   },
   "source": [
    "What do we want?"
   ]
  },
  {
   "cell_type": "markdown",
   "id": "affecting-mineral",
   "metadata": {
    "slideshow": {
     "slide_type": "fragment"
    }
   },
   "source": [
    "We have samles $X \\sim \\pi(x)$. We assume what $\\pi(x) \\approx p(x|\\theta)$. So, let's get $\\theta$ estimation using $X$"
   ]
  },
  {
   "cell_type": "markdown",
   "id": "false-appliance",
   "metadata": {
    "slideshow": {
     "slide_type": "fragment"
    }
   },
   "source": [
    "How?\n",
    "\n",
    "$\\theta^* = argmax_{\\theta} p(X | \\theta) = argmax_{\\theta} \\prod_{i=1}^n p(x_i | \\theta) = argmax_{\\theta} \\sum_{i=1}^n \\log p(x_i | \\theta)$"
   ]
  },
  {
   "cell_type": "markdown",
   "id": "valuable-handbook",
   "metadata": {
    "slideshow": {
     "slide_type": "slide"
    }
   },
   "source": [
    "## MLE examlpes"
   ]
  },
  {
   "cell_type": "markdown",
   "id": "awful-threshold",
   "metadata": {
    "slideshow": {
     "slide_type": "fragment"
    }
   },
   "source": [
    "### Example 1\n",
    "\n",
    "$X_1, ... X_n \\sim U[0,\\theta]$. \n",
    "\n",
    "$\\hat{\\theta}_{MLE} = ?$"
   ]
  },
  {
   "cell_type": "markdown",
   "id": "closing-combat",
   "metadata": {
    "slideshow": {
     "slide_type": "fragment"
    }
   },
   "source": [
    "For a single $x \\sim U[0,\\theta]$:\n",
    "\n",
    "$f(x) = \\dfrac{1}{\\theta}, x \\in [0,\\theta]$\n",
    "\n",
    "$f(x) = 0, x \\notin [0,\\theta]$"
   ]
  },
  {
   "cell_type": "markdown",
   "id": "verbal-organ",
   "metadata": {
    "slideshow": {
     "slide_type": "slide"
    }
   },
   "source": [
    "We have $X_1, ... X_n \\sim U[0,\\theta]$:\n",
    "\n",
    "$f(X | \\theta) = \\dfrac{1}{\\theta^{n}}, X \\in [0,\\theta]^{n}$, and $0, X \\notin [0,\\theta]^{n}$"
   ]
  },
  {
   "cell_type": "markdown",
   "id": "delayed-vision",
   "metadata": {
    "slideshow": {
     "slide_type": "fragment"
    }
   },
   "source": [
    "It also can be written as:\n",
    "\n",
    "$f(X | \\theta) = \\dfrac{1}{\\theta^{n}}, max(X_1, ... X_n) \\leq \\theta$, and $0, max(X_1, ... X_n) > \\theta$"
   ]
  },
  {
   "cell_type": "markdown",
   "id": "owned-shock",
   "metadata": {
    "slideshow": {
     "slide_type": "fragment"
    }
   },
   "source": [
    "So, we can find:\n",
    "\n",
    "$\\hat{\\theta}_{MLE} = max(X_1, ... X_n)$"
   ]
  },
  {
   "cell_type": "markdown",
   "id": "defined-quick",
   "metadata": {
    "slideshow": {
     "slide_type": "slide"
    }
   },
   "source": [
    "$\\hat{\\theta}_{MLE} = max(X_1, ... X_n)$ is also random variable\n",
    "\n",
    "How does Cumulative distribution function $F(x) = P(x < X)$ looks like?"
   ]
  },
  {
   "cell_type": "markdown",
   "id": "objective-victory",
   "metadata": {
    "slideshow": {
     "slide_type": "fragment"
    }
   },
   "source": [
    "\n",
    "$P_{X \\sim U[0,\\theta]}(max(X_1, ... X_n) < x) = \\dfrac{x^n}{\\theta^n}$, $x \\in [0,\\theta]$"
   ]
  },
  {
   "cell_type": "markdown",
   "id": "frozen-picnic",
   "metadata": {
    "slideshow": {
     "slide_type": "slide"
    }
   },
   "source": [
    "$\\hat{\\theta}$ is **unbiased** estimation of $\\theta$: $\\mathbb{E}\\hat{\\theta} = \\theta$.\n",
    "\n",
    "Are MLEs **unbiased**?"
   ]
  },
  {
   "cell_type": "markdown",
   "id": "funded-officer",
   "metadata": {
    "slideshow": {
     "slide_type": "slide"
    }
   },
   "source": [
    "Let's find this $\\mathbb{E}\\hat{\\theta}_{MLE} = ?$"
   ]
  },
  {
   "cell_type": "markdown",
   "id": "worst-hammer",
   "metadata": {
    "slideshow": {
     "slide_type": "fragment"
    }
   },
   "source": [
    "We know that:\n",
    "\n",
    "$\\mathbb{E}x = \\int_{-\\infty}^{+\\infty} x f(x) dx = \\int_{-\\infty}^{+\\infty} x dF(x)$\n",
    "\n",
    "\n",
    "$P_{X \\sim U[0,\\theta]}(max(X_1, ... X_n) < x) = \\dfrac{x^n}{\\theta^n}$, $x \\in [0,\\theta]$"
   ]
  },
  {
   "cell_type": "markdown",
   "id": "physical-establishment",
   "metadata": {
    "slideshow": {
     "slide_type": "fragment"
    }
   },
   "source": [
    "$\\mathbb{E}_{X \\sim U[0,\\theta]}\\hat{\\theta}_{MLE} =\n",
    "\\int_{0}^{\\theta} x d \\dfrac{x^n}{\\theta^n} = ...\n",
    "%\\int_{0}^{\\theta} \\dfrac{xnx^{n-1}}{\\theta^n} d x =\n",
    "%\\int_{0}^{\\theta} \\dfrac{nx^{n}}{\\theta^n} d x =\n",
    "%\\dfrac{n\\theta^{n+1}}{(n+1)\\theta^n}$"
   ]
  },
  {
   "cell_type": "markdown",
   "id": "threaded-charter",
   "metadata": {
    "slideshow": {
     "slide_type": "fragment"
    }
   },
   "source": [
    "$\\Rightarrow \\mathbb{E}_{X \\sim U[0,\\theta]}\\hat{\\theta}_{MLE} = \\dfrac{n}{n+1}\\theta \\Rightarrow$ MLE is not **unbiased**"
   ]
  },
  {
   "cell_type": "markdown",
   "id": "molecular-manitoba",
   "metadata": {
    "slideshow": {
     "slide_type": "slide"
    }
   },
   "source": [
    "### MLE\n",
    "\n",
    "- not unbiased\n",
    "- consistent (состоятельные)\n",
    "- asymptotically efficient (асимптотически эффективные)\n",
    "- asymptotically normal (асимптотически нормальные)"
   ]
  },
  {
   "cell_type": "markdown",
   "id": "novel-trash",
   "metadata": {
    "slideshow": {
     "slide_type": "slide"
    }
   },
   "source": [
    "## Simple distributions\n",
    "### Example 1\n",
    "\n",
    "Let we have samples $X \\sim \\pi(x)$ and want approximate $\\pi(x)$"
   ]
  },
  {
   "cell_type": "code",
   "execution_count": 2,
   "id": "static-exploration",
   "metadata": {
    "slideshow": {
     "slide_type": "fragment"
    }
   },
   "outputs": [],
   "source": [
    "def generate_1d_data(count, bins):\n",
    "    np.random.seed(42)\n",
    "    a = 0.2 + 0.05 * np.random.randn(count)\n",
    "    b = 0.6 + 0.15 * np.random.randn(count)\n",
    "    mask = np.random.rand(count) < 0.5\n",
    "    samples = (a * mask + b * (1 - mask)) * (bins - 1)\n",
    "    data = np.clip(samples.astype('int'), 0.0, (bins - 1))\n",
    "    split = int(0.8 * count)\n",
    "    train_data, test_data = data[:split], data[split:]\n",
    "    return train_data, test_data"
   ]
  },
  {
   "cell_type": "code",
   "execution_count": 3,
   "id": "forty-county",
   "metadata": {
    "slideshow": {
     "slide_type": "fragment"
    }
   },
   "outputs": [],
   "source": [
    "def plot_1d_data(train_data, test_data):\n",
    "    bins = int(max(test_data.max(), train_data.max()) - min(test_data.min(), train_data.min())) + 1\n",
    "    fig, (ax1, ax2) = plt.subplots(1, 2, figsize=(10, 5))\n",
    "    ax1.set_title('train')\n",
    "    ax1.hist(train_data, bins=bins, density=True)\n",
    "    ax1.set_xlabel('x')\n",
    "    ax2.set_title('test')\n",
    "    ax2.hist(test_data, bins=np.arange(bins), density=True)\n",
    "    plt.show()"
   ]
  },
  {
   "cell_type": "code",
   "execution_count": 4,
   "id": "therapeutic-yemen",
   "metadata": {
    "scrolled": true,
    "slideshow": {
     "slide_type": "slide"
    }
   },
   "outputs": [
    {
     "data": {
      "image/png": "[encoded data removed]",
      "text/plain": [
       "<Figure size 720x360 with 2 Axes>"
      ]
     },
     "metadata": {
      "needs_background": "light"
     },
     "output_type": "display_data"
    }
   ],
   "source": [
    "BINS = 100\n",
    "COUNT = 5000\n",
    "\n",
    "train_data, test_data = generate_1d_data(COUNT, BINS)\n",
    "plot_1d_data(train_data, test_data)"
   ]
  },
  {
   "cell_type": "code",
   "execution_count": null,
   "id": "valid-dragon",
   "metadata": {
    "slideshow": {
     "slide_type": "fragment"
    }
   },
   "outputs": [],
   "source": []
  },
  {
   "cell_type": "code",
   "execution_count": null,
   "id": "demonstrated-sterling",
   "metadata": {
    "slideshow": {
     "slide_type": "fragment"
    }
   },
   "outputs": [],
   "source": []
  },
  {
   "cell_type": "markdown",
   "id": "gothic-chaos",
   "metadata": {
    "slideshow": {
     "slide_type": "fragment"
    }
   },
   "source": [
    "How we can do it?"
   ]
  },
  {
   "cell_type": "markdown",
   "id": "ceramic-contamination",
   "metadata": {
    "slideshow": {
     "slide_type": "slide"
    }
   },
   "source": [
    "We can assume what $\\pi(k) \\approx p(k|\\theta)$ and try to optimize $\\theta$. For example $p(k|\\theta) = \\dfrac{e^{\\theta_k}}{\\sum\\limits_{i=1}^{d}e^{\\theta_i}}$"
   ]
  },
  {
   "cell_type": "markdown",
   "id": "native-vacuum",
   "metadata": {
    "slideshow": {
     "slide_type": "fragment"
    }
   },
   "source": [
    "Let $X$ has $n_i$ elements equal to $i$, $\\sum\\limits_{i=1}^{d}n_i = N$. Loglikelihood: \n",
    "\n",
    "$log~p(X|\\theta) =\\sum\\limits_{i=1}^{d} n_i log~p(k=i|\\theta)$"
   ]
  },
  {
   "cell_type": "markdown",
   "id": "pediatric-tsunami",
   "metadata": {
    "slideshow": {
     "slide_type": "fragment"
    }
   },
   "source": [
    "For batch of $\\{x_i\\}_{i=1}^{N}$ elements and predicted probabilities $\\{(p^1_i, \\dots , p^d_i)\\}_{i=1}^{N}$:\n",
    "\n",
    "Cross entropy loss = $- \\sum\\limits_{i=1}^{N} x_i log~p_{i}^{x_i}$"
   ]
  },
  {
   "cell_type": "markdown",
   "id": "designed-solomon",
   "metadata": {
    "slideshow": {
     "slide_type": "slide"
    }
   },
   "source": [
    "### Example 2\n",
    "\n",
    "Let we have samples from 2D distribution. We want to generate additional samples from the distribution "
   ]
  },
  {
   "cell_type": "code",
   "execution_count": 5,
   "id": "optimum-manual",
   "metadata": {
    "slideshow": {
     "slide_type": "fragment"
    }
   },
   "outputs": [],
   "source": [
    "def generate_2d_data(count, bins):\n",
    "    im = Image.open('sem_image.png').resize((bins, bins)).convert('L')\n",
    "    im = np.array(im).astype('float32')\n",
    "    dist = im / im.sum()\n",
    "\n",
    "    pairs = list(itertools.product(range(bins), range(bins)))\n",
    "    idxs = np.random.choice(len(pairs), size=count, replace=True, p=dist.reshape(-1))\n",
    "    samples = np.array([pairs[i] for i in idxs])\n",
    "\n",
    "    split = int(0.8 * len(samples))\n",
    "    return dist, samples[:split], samples[split:]"
   ]
  },
  {
   "cell_type": "code",
   "execution_count": 6,
   "id": "veterinary-alloy",
   "metadata": {
    "slideshow": {
     "slide_type": "fragment"
    }
   },
   "outputs": [],
   "source": [
    "def plot_2d_data(train_data, test_data, bins=None):\n",
    "    if bins is None:\n",
    "        bins = int(max(test_data.max(), train_data.max()) - min(test_data.min(), train_data.min())) + 1\n",
    "    else:\n",
    "        bins = int(bins)\n",
    "    train_dist, test_dist = np.zeros((bins, bins)), np.zeros((bins, bins))\n",
    "    for i in range(len(train_data)):\n",
    "        train_dist[train_data[i][0], train_data[i][1]] += 1\n",
    "    train_dist /= train_dist.sum()\n",
    "\n",
    "    for i in range(len(test_data)):\n",
    "        test_dist[test_data[i][0], test_data[i][1]] += 1\n",
    "    test_dist /= test_dist.sum()\n",
    "\n",
    "    fig, (ax1, ax2) = plt.subplots(1, 2, figsize=(10, 6))\n",
    "    ax1.set_title('Train Data')\n",
    "    ax1.imshow(train_dist, cmap='gray')\n",
    "    ax1.axis('off')\n",
    "    ax1.set_xlabel('x1')\n",
    "    ax1.set_ylabel('x0')\n",
    "\n",
    "    ax2.set_title('Test Data')\n",
    "    ax2.imshow(test_dist, cmap='gray')\n",
    "    ax2.axis('off')\n",
    "    ax2.set_xlabel('x1')\n",
    "    ax2.set_ylabel('x0')\n",
    "\n",
    "    plt.show()"
   ]
  },
  {
   "cell_type": "code",
   "execution_count": 26,
   "id": "answering-biology",
   "metadata": {
    "slideshow": {
     "slide_type": "slide"
    }
   },
   "outputs": [
    {
     "data": {
      "image/png": "[encoded data removed]",
      "text/plain": [
       "<Figure size 720x432 with 2 Axes>"
      ]
     },
     "metadata": {
      "needs_background": "light"
     },
     "output_type": "display_data"
    }
   ],
   "source": [
    "COUNT = 1000\n",
    "BINS = 64\n",
    "\n",
    "image, train_data, test_data = generate_2d_data(COUNT, BINS)\n",
    "plot_2d_data(train_data, test_data, BINS)"
   ]
  },
  {
   "cell_type": "code",
   "execution_count": null,
   "id": "israeli-finland",
   "metadata": {},
   "outputs": [],
   "source": []
  },
  {
   "cell_type": "code",
   "execution_count": null,
   "id": "second-circulation",
   "metadata": {},
   "outputs": [],
   "source": []
  },
  {
   "cell_type": "markdown",
   "id": "neural-aspect",
   "metadata": {
    "slideshow": {
     "slide_type": "slide"
    }
   },
   "source": [
    "## MADE\n",
    "\n",
    "<img src=\"made.png\" width=600 height=600 />"
   ]
  },
  {
   "cell_type": "markdown",
   "id": "expected-string",
   "metadata": {
    "slideshow": {
     "slide_type": "fragment"
    }
   },
   "source": [
    "- What is model's input and output?\n",
    "- What loss fuction should we optimize? How?\n",
    "- Tensors' shapes?"
   ]
  },
  {
   "cell_type": "markdown",
   "id": "stainless-shepherd",
   "metadata": {
    "slideshow": {
     "slide_type": "fragment"
    }
   },
   "source": [
    "- How do connections between inputs and outputs look like?"
   ]
  },
  {
   "cell_type": "markdown",
   "id": "according-governor",
   "metadata": {
    "slideshow": {
     "slide_type": "fragment"
    }
   },
   "source": [
    "- How can we train MNIST?"
   ]
  },
  {
   "cell_type": "markdown",
   "id": "natural-receiver",
   "metadata": {
    "slideshow": {
     "slide_type": "slide"
    }
   },
   "source": [
    "### Masks in MADE\n",
    "Pytorch docs\n",
    "<img src=\"linear.jpg\" width=600 height=600 />"
   ]
  },
  {
   "cell_type": "code",
   "execution_count": 8,
   "id": "framed-julian",
   "metadata": {
    "slideshow": {
     "slide_type": "slide"
    }
   },
   "outputs": [],
   "source": [
    "class MaskedLinear(nn.Linear):\n",
    "    def __init__(self, in_features, out_features, bias=True):\n",
    "        super().__init__(in_features, out_features, bias)\n",
    "        self.register_buffer('mask', torch.ones(out_features, in_features))\n",
    "\n",
    "    def set_mask(self, mask):\n",
    "        self.mask.data.copy_(torch.from_numpy(mask.astype(np.uint8).T))\n",
    "\n",
    "    def forward(self, input):\n",
    "        return F.linear(input, self.mask * (self.weight*0+1), self.bias*0)#+torch.Tensor(np.arange(self.out_features))*0.1)"
   ]
  },
  {
   "cell_type": "code",
   "execution_count": 9,
   "id": "hidden-safety",
   "metadata": {
    "slideshow": {
     "slide_type": "slide"
    }
   },
   "outputs": [],
   "source": [
    "mask = np.concatenate([np.ones((2,8)), np.zeros((2,8))], axis=0)\n",
    "#mask = np.hstack([np.ones((4,4)), np.zeros((4,4))])\n",
    "\n",
    "ml_layer = MaskedLinear(4,8)\n",
    "ml_layer.set_mask(mask)\n",
    "\n",
    "inp = [1,2,3,4]\n",
    "inp = torch.Tensor([inp,inp])+np.array([0,10])[:,None]"
   ]
  },
  {
   "cell_type": "code",
   "execution_count": null,
   "id": "regulation-group",
   "metadata": {
    "slideshow": {
     "slide_type": "fragment"
    }
   },
   "outputs": [],
   "source": []
  },
  {
   "cell_type": "code",
   "execution_count": null,
   "id": "turned-argentina",
   "metadata": {
    "slideshow": {
     "slide_type": "fragment"
    }
   },
   "outputs": [],
   "source": []
  },
  {
   "cell_type": "code",
   "execution_count": 11,
   "id": "opposite-tours",
   "metadata": {
    "slideshow": {
     "slide_type": "fragment"
    }
   },
   "outputs": [],
   "source": [
    "ml_layer(inp.float())"
   ]
  },
  {
   "cell_type": "code",
   "execution_count": null,
   "id": "coral-cleaner",
   "metadata": {},
   "outputs": [],
   "source": []
  }
 ],
 "metadata": {
  "celltoolbar": "Slideshow",
  "kernelspec": {
   "display_name": "Python 3",
   "language": "python",
   "name": "python3"
  },
  "language_info": {
   "codemirror_mode": {
    "name": "ipython",
    "version": 3
   },
   "file_extension": ".py",
   "mimetype": "text/x-python",
   "name": "python",
   "nbconvert_exporter": "python",
   "pygments_lexer": "ipython3",
   "version": "3.8.5"
  }
 },
 "nbformat": 4,
 "nbformat_minor": 5
}
