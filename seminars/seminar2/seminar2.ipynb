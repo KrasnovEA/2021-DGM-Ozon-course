{
 "cells": [
  {
   "cell_type": "markdown",
   "id": "amber-humidity",
   "metadata": {
    "slideshow": {
     "slide_type": "slide"
    }
   },
   "source": [
    "# <center>Deep Generative Models</center>\n",
    "## <center>Seminar 2</center>\n",
    "\n",
    "<center><img src=\"pics/ozonmasterslogo.png\" width=600 height=600 /></center>\n",
    "<center>17.02.2021</center>\n"
   ]
  },
  {
   "cell_type": "markdown",
   "id": "ruled-polyester",
   "metadata": {
    "slideshow": {
     "slide_type": "slide"
    }
   },
   "source": [
    "## Plan\n",
    "- Bayes' theorem\n",
    "- PixelCNN"
   ]
  },
  {
   "cell_type": "markdown",
   "id": "liked-penny",
   "metadata": {
    "slideshow": {
     "slide_type": "slide"
    }
   },
   "source": [
    "## Bayes' theorem\n",
    "\n",
    "$P(A|B) = \\dfrac{P(B|A)P(A)}{P(B)}$"
   ]
  },
  {
   "cell_type": "markdown",
   "id": "domestic-israeli",
   "metadata": {
    "slideshow": {
     "slide_type": "fragment"
    }
   },
   "source": [
    "$p(\\text{+} | \\text{healthy}) = 0.01$\n",
    "\n",
    "$p(\\text{+} | \\text{sick}) = 0.9$\n",
    "\n",
    "$p(\\text{sick}) = 0.001$\n",
    "\n",
    "$p(\\text{healthy} | \\text{+}) = ?$, $p(\\text{healthy} | \\text{+}, \\text{+}) = ?$"
   ]
  },
  {
   "cell_type": "markdown",
   "id": "improving-sterling",
   "metadata": {
    "slideshow": {
     "slide_type": "slide"
    }
   },
   "source": [
    "$f(\\theta|x) = \\dfrac{f(x|\\theta)g(\\theta)}{\\int f(x|\\theta)g(\\theta) d\\theta}$"
   ]
  },
  {
   "cell_type": "markdown",
   "id": "inner-ceramic",
   "metadata": {
    "slideshow": {
     "slide_type": "fragment"
    }
   },
   "source": [
    "$\\hat{\\theta}_{ML} = \\text{argmax}_\\theta p(X|\\theta)$\n",
    "\n",
    "$\\hat{\\theta}_{MAP} = \\text{argmax}_\\theta p(\\theta|X)$"
   ]
  },
  {
   "cell_type": "markdown",
   "id": "coastal-memorial",
   "metadata": {
    "slideshow": {
     "slide_type": "slide"
    }
   },
   "source": [
    "## PixelCNN\n",
    "\n",
    "<right><img src=\"pics/pixelcnn_rastr_ord.png\" width=500 height=500 /></right>\n",
    "\n",
    "$p(\\mathbf{x}) = \\prod_{i=1}^{n^2} p(x_i|x_{1}, \\dots, x_{i-1})$"
   ]
  },
  {
   "cell_type": "markdown",
   "id": "bright-weekend",
   "metadata": {
    "slideshow": {
     "slide_type": "slide"
    }
   },
   "source": [
    "<center><img src=\"pics/pixelcnn_slide.jpg\" width=1000 height=1000 /></center>"
   ]
  },
  {
   "cell_type": "markdown",
   "id": "opponent-nylon",
   "metadata": {
    "slideshow": {
     "slide_type": "slide"
    }
   },
   "source": [
    "<center><img src=\"pics/blind_spot.jpg\" width=1000 height=1000 /></center>"
   ]
  },
  {
   "cell_type": "markdown",
   "id": "useful-facility",
   "metadata": {
    "slideshow": {
     "slide_type": "slide"
    }
   },
   "source": [
    "## PCA\n",
    "\n",
    "$X \\in \\mathbb{R}^{D}$. We want to do some dimention reduction. How?"
   ]
  },
  {
   "cell_type": "markdown",
   "id": "magnetic-bathroom",
   "metadata": {
    "slideshow": {
     "slide_type": "fragment"
    }
   },
   "source": [
    "Let's project the data to subspace having dimentionality $M < D$ while maximizing the variance of the projected data:\n",
    "\n",
    "$\\overline{x} = \\dfrac{1}{n}\\sum_{i=1}^{n}x_i$ - mean $x - D \\times 1$\n",
    "\n",
    "$S = \\dfrac{1}{n}\\sum_{i=1}^{n}(x_i - \\overline{x})(x_i - \\overline{x})^T$ - covariance matrix $D \\times D$"
   ]
  },
  {
   "cell_type": "markdown",
   "id": "optical-ballet",
   "metadata": {
    "slideshow": {
     "slide_type": "fragment"
    }
   },
   "source": [
    "Let $M = 1$, so we want find $u_1$, $u_1^T u_1 = 1$, $u_1^T x_i \\in \\mathbb{R}$.\n",
    "\n",
    "$\\dfrac{1}{n}\\sum_{i=1}^{n}(u_1^T x_i - u_1^T \\overline{x})^2 = u_1^T S u_1$"
   ]
  },
  {
   "cell_type": "markdown",
   "id": "architectural-alabama",
   "metadata": {
    "slideshow": {
     "slide_type": "slide"
    }
   },
   "source": [
    "We want $u_1^T S u_1 \\rightarrow \\max_{u_1}$ and $u_1^T u_1 = 1$:\n",
    "\n",
    "We can define an optimization problem:\n",
    "\n",
    "$\\max_{u_1} u_1^T S u_1 + \\lambda_1(1 - u_1^T u_1)$"
   ]
  },
  {
   "cell_type": "markdown",
   "id": "creative-tumor",
   "metadata": {
    "slideshow": {
     "slide_type": "fragment"
    }
   },
   "source": [
    "By setting the derivative with respect to $u_1$ equal to zero we'll find:\n",
    "\n",
    "$S u_1 = \\lambda_1 u_1 \\Rightarrow u_1$ - eigenvector of $S$\n",
    "\n",
    "$u_1^T S u_1 = \\lambda_1 \\Rightarrow \\lambda_1$ - the largest eigenvalue of $S$\n",
    "\n",
    "Eigenvector $u_1$ is known as the first principal component"
   ]
  },
  {
   "cell_type": "markdown",
   "id": "respiratory-facial",
   "metadata": {
    "slideshow": {
     "slide_type": "slide"
    }
   },
   "source": [
    "We can define additional principal components orthogonal to $u_1$ solving the same problem, it will be next eigenvectors $u_2, \\dots, u_M$.\n",
    "\n",
    "Why $u_i^T u_j = \\delta_{ij}?$"
   ]
  },
  {
   "cell_type": "markdown",
   "id": "initial-harvey",
   "metadata": {
    "slideshow": {
     "slide_type": "slide"
    }
   },
   "source": [
    "We can also formulate the same task as reconstruction loss minimization task:\n",
    "\n",
    "$J = \\dfrac{1}{n}\\sum_{i=1}^{n} ||x_i - \\widetilde{x_i}||^2 \\rightarrow \\min_U$\n",
    "\n",
    "And get the same solution"
   ]
  },
  {
   "cell_type": "markdown",
   "id": "israeli-walter",
   "metadata": {
    "slideshow": {
     "slide_type": "slide"
    }
   },
   "source": [
    "- Should we normalize the data?"
   ]
  },
  {
   "cell_type": "markdown",
   "id": "historic-sugar",
   "metadata": {
    "slideshow": {
     "slide_type": "fragment"
    }
   },
   "source": [
    "- Note that the computational cost of computing the full eigenvector decomposition for a matrix is $O(D^3)$\n",
    "- There is more efficient techniques, such as the power method (Golub and Van Loan, 1996) $O(M D^2)$"
   ]
  }
 ],
 "metadata": {
  "celltoolbar": "Slideshow",
  "kernelspec": {
   "display_name": "Python 3",
   "language": "python",
   "name": "python3"
  },
  "language_info": {
   "codemirror_mode": {
    "name": "ipython",
    "version": 3
   },
   "file_extension": ".py",
   "mimetype": "text/x-python",
   "name": "python",
   "nbconvert_exporter": "python",
   "pygments_lexer": "ipython3",
   "version": "3.8.5"
  }
 },
 "nbformat": 4,
 "nbformat_minor": 5
}
